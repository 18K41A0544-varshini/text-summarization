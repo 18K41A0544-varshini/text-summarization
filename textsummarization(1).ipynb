{
  "nbformat": 4,
  "nbformat_minor": 0,
  "metadata": {
    "colab": {
      "name": "textsummarization.ipynb",
      "provenance": [],
      "collapsed_sections": []
    },
    "kernelspec": {
      "name": "python3",
      "display_name": "Python 3"
    },
    "language_info": {
      "name": "python"
    }
  },
  "cells": [
    {
      "cell_type": "code",
      "metadata": {
        "id": "ZxHy83IjQI_F"
      },
      "source": [
        "text1= \"\"\"\n",
        "Extractive summarization is a challenging task that has only recently become practical.\n",
        "Like many things NLP, one reason for this progress is the superior embeddings offered by transformer models like BERT.\n",
        "This project uses BERT sentence embeddings to build an extractive summarizer taking two supervised approaches.\n",
        "The first considers only embeddings and their derivatives.\n",
        "This corresponds to our intuition that a good summarizer can parse meaning and should select sentences based purely on the internal structure of the article. The baseline for this approach is the unsupervised TextRank model. The other approach incorporates sequential information and takes advantage of the well known Lead3 phenomena particular to news corpuses. This is the observation that the first three sentences typically do a good job in summarizing the article. In fact, this strategy is explicitly deployed by many publishers. Lead3 is used as the baseline for this second approach.\n",
        "In both cases, the supervised models outperform the baselines on the Rouge-1 and Rouge-L F1 metric.\"\"\""
      ],
      "execution_count": 10,
      "outputs": []
    },
    {
      "cell_type": "markdown",
      "metadata": {
        "id": "asSWyYPHVcMs"
      },
      "source": [
        "test example\n"
      ]
    },
    {
      "cell_type": "code",
      "metadata": {
        "id": "Lt5QF5u0QcMn"
      },
      "source": [
        "import spacy\n",
        "from spacy.lang.en.stop_words import STOP_WORDS\n",
        "from string import punctuation"
      ],
      "execution_count": 11,
      "outputs": []
    },
    {
      "cell_type": "markdown",
      "metadata": {
        "id": "gt6Xz5EOVh2E"
      },
      "source": [
        "Importing libraries"
      ]
    },
    {
      "cell_type": "code",
      "metadata": {
        "id": "sw5R4ZWiQprF"
      },
      "source": [
        "stopwords = list(STOP_WORDS)"
      ],
      "execution_count": 12,
      "outputs": []
    },
    {
      "cell_type": "code",
      "metadata": {
        "id": "vlbUlQbFQy8a"
      },
      "source": [
        "nlp = spacy.load('en_core_web_sm')"
      ],
      "execution_count": 13,
      "outputs": []
    },
    {
      "cell_type": "code",
      "metadata": {
        "id": "Nb-u-nSrQ43G"
      },
      "source": [
        "document = nlp(text1)"
      ],
      "execution_count": 14,
      "outputs": []
    },
    {
      "cell_type": "code",
      "metadata": {
        "colab": {
          "base_uri": "https://localhost:8080/"
        },
        "id": "J-hXduP0RIZS",
        "outputId": "45d80828-9b71-4ee5-c360-52e3ed98f236"
      },
      "source": [
        "tokens = [token.text for token in document]\n",
        "print(tokens)"
      ],
      "execution_count": 15,
      "outputs": [
        {
          "output_type": "stream",
          "text": [
            "['\\n', 'Extractive', 'summarization', 'is', 'a', 'challenging', 'task', 'that', 'has', 'only', 'recently', 'become', 'practical', '.', '\\n', 'Like', 'many', 'things', 'NLP', ',', 'one', 'reason', 'for', 'this', 'progress', 'is', 'the', 'superior', 'embeddings', 'offered', 'by', 'transformer', 'models', 'like', 'BERT', '.', '\\n', 'This', 'project', 'uses', 'BERT', 'sentence', 'embeddings', 'to', 'build', 'an', 'extractive', 'summarizer', 'taking', 'two', 'supervised', 'approaches', '.', '\\n', 'The', 'first', 'considers', 'only', 'embeddings', 'and', 'their', 'derivatives', '.', '\\n', 'This', 'corresponds', 'to', 'our', 'intuition', 'that', 'a', 'good', 'summarizer', 'can', 'parse', 'meaning', 'and', 'should', 'select', 'sentences', 'based', 'purely', 'on', 'the', 'internal', 'structure', 'of', 'the', 'article', '.', 'The', 'baseline', 'for', 'this', 'approach', 'is', 'the', 'unsupervised', 'TextRank', 'model', '.', 'The', 'other', 'approach', 'incorporates', 'sequential', 'information', 'and', 'takes', 'advantage', 'of', 'the', 'well', 'known', 'Lead3', 'phenomena', 'particular', 'to', 'news', 'corpuses', '.', 'This', 'is', 'the', 'observation', 'that', 'the', 'first', 'three', 'sentences', 'typically', 'do', 'a', 'good', 'job', 'in', 'summarizing', 'the', 'article', '.', 'In', 'fact', ',', 'this', 'strategy', 'is', 'explicitly', 'deployed', 'by', 'many', 'publishers', '.', 'Lead3', 'is', 'used', 'as', 'the', 'baseline', 'for', 'this', 'second', 'approach', '.', '\\n', 'In', 'both', 'cases', ',', 'the', 'supervised', 'models', 'outperform', 'the', 'baselines', 'on', 'the', 'Rouge-1', 'and', 'Rouge', '-', 'L', 'F1', 'metric', '.']\n"
          ],
          "name": "stdout"
        }
      ]
    },
    {
      "cell_type": "markdown",
      "metadata": {
        "id": "hC75wajHWGxE"
      },
      "source": [
        "converting each word of sentence into tokens"
      ]
    },
    {
      "cell_type": "code",
      "metadata": {
        "colab": {
          "base_uri": "https://localhost:8080/",
          "height": 36
        },
        "id": "z_vB_9a-RTRI",
        "outputId": "8e29ffae-81c4-4e23-fa4f-2d31317ec69e"
      },
      "source": [
        "punctuation = punctuation + '\\n'\n",
        "punctuation"
      ],
      "execution_count": 18,
      "outputs": [
        {
          "output_type": "execute_result",
          "data": {
            "application/vnd.google.colaboratory.intrinsic+json": {
              "type": "string"
            },
            "text/plain": [
              "'!\"#$%&\\'()*+,-./:;<=>?@[\\\\]^_`{|}~\\n\\n'"
            ]
          },
          "metadata": {
            "tags": []
          },
          "execution_count": 18
        }
      ]
    },
    {
      "cell_type": "markdown",
      "metadata": {
        "id": "UPvezmiuWTQs"
      },
      "source": [
        "Finding punctuations in the paragraph"
      ]
    },
    {
      "cell_type": "code",
      "metadata": {
        "colab": {
          "base_uri": "https://localhost:8080/"
        },
        "id": "jWb9E2eTRbVS",
        "outputId": "886fe7b8-a7dc-4bba-d151-92cbcad3c1d4"
      },
      "source": [
        "word_freq = {}\n",
        "for word in document:\n",
        "    if word.text.lower() not in stopwords:\n",
        "        if word.text.lower() not in punctuation:\n",
        "            if word.text not in word_freq.keys():\n",
        "                word_freq[word.text] = 1\n",
        "            else:\n",
        "                word_freq[word.text] += 1\n",
        "                \n",
        "print(word_freq)"
      ],
      "execution_count": 19,
      "outputs": [
        {
          "output_type": "stream",
          "text": [
            "{'Extractive': 1, 'summarization': 1, 'challenging': 1, 'task': 1, 'recently': 1, 'practical': 1, 'Like': 1, 'things': 1, 'NLP': 1, 'reason': 1, 'progress': 1, 'superior': 1, 'embeddings': 3, 'offered': 1, 'transformer': 1, 'models': 2, 'like': 1, 'BERT': 2, 'project': 1, 'uses': 1, 'sentence': 1, 'build': 1, 'extractive': 1, 'summarizer': 2, 'taking': 1, 'supervised': 2, 'approaches': 1, 'considers': 1, 'derivatives': 1, 'corresponds': 1, 'intuition': 1, 'good': 2, 'parse': 1, 'meaning': 1, 'select': 1, 'sentences': 2, 'based': 1, 'purely': 1, 'internal': 1, 'structure': 1, 'article': 2, 'baseline': 2, 'approach': 3, 'unsupervised': 1, 'TextRank': 1, 'model': 1, 'incorporates': 1, 'sequential': 1, 'information': 1, 'takes': 1, 'advantage': 1, 'known': 1, 'Lead3': 2, 'phenomena': 1, 'particular': 1, 'news': 1, 'corpuses': 1, 'observation': 1, 'typically': 1, 'job': 1, 'summarizing': 1, 'fact': 1, 'strategy': 1, 'explicitly': 1, 'deployed': 1, 'publishers': 1, 'second': 1, 'cases': 1, 'outperform': 1, 'baselines': 1, 'Rouge-1': 1, 'Rouge': 1, 'L': 1, 'F1': 1, 'metric': 1}\n"
          ],
          "name": "stdout"
        }
      ]
    },
    {
      "cell_type": "markdown",
      "metadata": {
        "id": "d-Ol7rkNWV6c"
      },
      "source": [
        "Frequency of each word in the text"
      ]
    },
    {
      "cell_type": "code",
      "metadata": {
        "colab": {
          "base_uri": "https://localhost:8080/"
        },
        "id": "tpj9QiPdRzKJ",
        "outputId": "281527e7-04a5-4fe4-e041-c3815afefa58"
      },
      "source": [
        "max_freq = max(word_freq.values())\n",
        "max_freq"
      ],
      "execution_count": 22,
      "outputs": [
        {
          "output_type": "execute_result",
          "data": {
            "text/plain": [
              "1.0"
            ]
          },
          "metadata": {
            "tags": []
          },
          "execution_count": 22
        }
      ]
    },
    {
      "cell_type": "markdown",
      "metadata": {
        "id": "OSIcITJRWVGI"
      },
      "source": [
        "Finding maximum frequency"
      ]
    },
    {
      "cell_type": "code",
      "metadata": {
        "colab": {
          "base_uri": "https://localhost:8080/"
        },
        "id": "DVTDfjX3R4LN",
        "outputId": "31c5e15a-edf2-4a82-ab03-ae527fc8490c"
      },
      "source": [
        "for word in word_freq.keys():\n",
        "    word_freq[word] = word_freq[word]/max_freq\n",
        "\n",
        "print(word_freq)"
      ],
      "execution_count": 23,
      "outputs": [
        {
          "output_type": "stream",
          "text": [
            "{'Extractive': 0.3333333333333333, 'summarization': 0.3333333333333333, 'challenging': 0.3333333333333333, 'task': 0.3333333333333333, 'recently': 0.3333333333333333, 'practical': 0.3333333333333333, 'Like': 0.3333333333333333, 'things': 0.3333333333333333, 'NLP': 0.3333333333333333, 'reason': 0.3333333333333333, 'progress': 0.3333333333333333, 'superior': 0.3333333333333333, 'embeddings': 1.0, 'offered': 0.3333333333333333, 'transformer': 0.3333333333333333, 'models': 0.6666666666666666, 'like': 0.3333333333333333, 'BERT': 0.6666666666666666, 'project': 0.3333333333333333, 'uses': 0.3333333333333333, 'sentence': 0.3333333333333333, 'build': 0.3333333333333333, 'extractive': 0.3333333333333333, 'summarizer': 0.6666666666666666, 'taking': 0.3333333333333333, 'supervised': 0.6666666666666666, 'approaches': 0.3333333333333333, 'considers': 0.3333333333333333, 'derivatives': 0.3333333333333333, 'corresponds': 0.3333333333333333, 'intuition': 0.3333333333333333, 'good': 0.6666666666666666, 'parse': 0.3333333333333333, 'meaning': 0.3333333333333333, 'select': 0.3333333333333333, 'sentences': 0.6666666666666666, 'based': 0.3333333333333333, 'purely': 0.3333333333333333, 'internal': 0.3333333333333333, 'structure': 0.3333333333333333, 'article': 0.6666666666666666, 'baseline': 0.6666666666666666, 'approach': 1.0, 'unsupervised': 0.3333333333333333, 'TextRank': 0.3333333333333333, 'model': 0.3333333333333333, 'incorporates': 0.3333333333333333, 'sequential': 0.3333333333333333, 'information': 0.3333333333333333, 'takes': 0.3333333333333333, 'advantage': 0.3333333333333333, 'known': 0.3333333333333333, 'Lead3': 0.6666666666666666, 'phenomena': 0.3333333333333333, 'particular': 0.3333333333333333, 'news': 0.3333333333333333, 'corpuses': 0.3333333333333333, 'observation': 0.3333333333333333, 'typically': 0.3333333333333333, 'job': 0.3333333333333333, 'summarizing': 0.3333333333333333, 'fact': 0.3333333333333333, 'strategy': 0.3333333333333333, 'explicitly': 0.3333333333333333, 'deployed': 0.3333333333333333, 'publishers': 0.3333333333333333, 'second': 0.3333333333333333, 'cases': 0.3333333333333333, 'outperform': 0.3333333333333333, 'baselines': 0.3333333333333333, 'Rouge-1': 0.3333333333333333, 'Rouge': 0.3333333333333333, 'L': 0.3333333333333333, 'F1': 0.3333333333333333, 'metric': 0.3333333333333333}\n"
          ],
          "name": "stdout"
        }
      ]
    },
    {
      "cell_type": "markdown",
      "metadata": {
        "id": "9OtrabSTWe9Z"
      },
      "source": [
        "Percentage of each word in the text"
      ]
    },
    {
      "cell_type": "code",
      "metadata": {
        "colab": {
          "base_uri": "https://localhost:8080/"
        },
        "id": "nNZuiIuAR_Kr",
        "outputId": "7e522dea-bc9d-4e10-b4dc-493e65a3bf90"
      },
      "source": [
        "sen_tokens = [sent for sent in document.sents]\n",
        "print(sen_tokens)"
      ],
      "execution_count": 24,
      "outputs": [
        {
          "output_type": "stream",
          "text": [
            "[\n",
            "Extractive summarization is a challenging task that has only recently become practical.\n",
            ", Like many things NLP, one reason for this progress is the superior embeddings offered by transformer models like BERT.\n",
            ", This project uses BERT sentence embeddings to build an extractive summarizer taking two supervised approaches.\n",
            ", The first considers only embeddings and their derivatives.\n",
            ", This corresponds to our intuition that a good summarizer can parse meaning and should select sentences based purely on the internal structure of the article., The baseline for this approach is the unsupervised TextRank model., The other approach incorporates sequential information and takes advantage of the well known Lead3 phenomena particular to news corpuses., This is the observation that the first three sentences typically do a good job in summarizing the article., In fact, this strategy is explicitly deployed by many publishers., Lead3 is used as the baseline for this second approach.\n",
            ", In both cases, the supervised models outperform the baselines on the Rouge-1 and Rouge-L F1 metric.]\n"
          ],
          "name": "stdout"
        }
      ]
    },
    {
      "cell_type": "markdown",
      "metadata": {
        "id": "eaDvkxqjWpSg"
      },
      "source": [
        "Dividing sentences into tokens with fullstops"
      ]
    },
    {
      "cell_type": "code",
      "metadata": {
        "colab": {
          "base_uri": "https://localhost:8080/"
        },
        "id": "i6BaSOw5SJ83",
        "outputId": "e83a0f59-aff5-4cf7-c746-8e665cb95cc0"
      },
      "source": [
        "sen_scores = {}\n",
        "for sent in sen_tokens:\n",
        "    for word in sent:\n",
        "        if word.text.lower() in word_freq.keys():\n",
        "            if sent not in sen_scores.keys():\n",
        "                sen_scores[sent] = word_freq[word.text.lower()]\n",
        "            else:\n",
        "                sen_scores[sent] += word_freq[word.text.lower()]\n",
        "                \n",
        "sen_scores"
      ],
      "execution_count": 25,
      "outputs": [
        {
          "output_type": "execute_result",
          "data": {
            "text/plain": [
              "{\n",
              " Extractive summarization is a challenging task that has only recently become practical.: 1.9999999999999998,\n",
              " Like many things NLP, one reason for this progress is the superior embeddings offered by transformer models like BERT.: 4.333333333333333,\n",
              " This project uses BERT sentence embeddings to build an extractive summarizer taking two supervised approaches.: 4.666666666666667,\n",
              " The first considers only embeddings and their derivatives.: 1.6666666666666665,\n",
              " This corresponds to our intuition that a good summarizer can parse meaning and should select sentences based purely on the internal structure of the article.: 5.666666666666666,\n",
              " The baseline for this approach is the unsupervised TextRank model.: 2.333333333333333,\n",
              " The other approach incorporates sequential information and takes advantage of the well known Lead3 phenomena particular to news corpuses.: 4.333333333333333,\n",
              " This is the observation that the first three sentences typically do a good job in summarizing the article.: 3.3333333333333335,\n",
              " In fact, this strategy is explicitly deployed by many publishers.: 1.6666666666666665,\n",
              " Lead3 is used as the baseline for this second approach.: 2.0,\n",
              " In both cases, the supervised models outperform the baselines on the Rouge-1 and Rouge-L F1 metric.: 2.6666666666666665}"
            ]
          },
          "metadata": {
            "tags": []
          },
          "execution_count": 25
        }
      ]
    },
    {
      "cell_type": "markdown",
      "metadata": {
        "id": "_J0rbYJvWu-9"
      },
      "source": [
        "Alloting score to each sentence"
      ]
    },
    {
      "cell_type": "code",
      "metadata": {
        "id": "kLiWmeVpSSAt"
      },
      "source": [
        "from heapq import nlargest"
      ],
      "execution_count": 26,
      "outputs": []
    },
    {
      "cell_type": "code",
      "metadata": {
        "colab": {
          "base_uri": "https://localhost:8080/"
        },
        "id": "gOK9voVxSX9r",
        "outputId": "5e440336-b4e9-4aed-d392-7c8d0268c49a"
      },
      "source": [
        "length = int(len(sen_tokens)*0.3)\n",
        "length"
      ],
      "execution_count": 27,
      "outputs": [
        {
          "output_type": "execute_result",
          "data": {
            "text/plain": [
              "3"
            ]
          },
          "metadata": {
            "tags": []
          },
          "execution_count": 27
        }
      ]
    },
    {
      "cell_type": "code",
      "metadata": {
        "colab": {
          "base_uri": "https://localhost:8080/"
        },
        "id": "xN1AfIHDSbQ5",
        "outputId": "fd057547-f648-4775-bfc4-f392d16dc877"
      },
      "source": [
        "summary = nlargest(length, sen_scores, key = sen_scores.get)\n",
        "summary"
      ],
      "execution_count": 43,
      "outputs": [
        {
          "output_type": "execute_result",
          "data": {
            "text/plain": [
              "[This corresponds to our intuition that a good summarizer can parse meaning and should select sentences based purely on the internal structure of the article.,\n",
              " This project uses BERT sentence embeddings to build an extractive summarizer taking two supervised approaches.,\n",
              " Like many things NLP, one reason for this progress is the superior embeddings offered by transformer models like BERT.]"
            ]
          },
          "metadata": {
            "tags": []
          },
          "execution_count": 43
        }
      ]
    },
    {
      "cell_type": "markdown",
      "metadata": {
        "id": "Ge5IOBd5W1H2"
      },
      "source": [
        "Finding the sentences with highest scores"
      ]
    },
    {
      "cell_type": "code",
      "metadata": {
        "id": "YGq7bKAaSn1k"
      },
      "source": [
        "final_summary = [word.text for word in summary]\n",
        "summary = ' '.join(final_summary)"
      ],
      "execution_count": 44,
      "outputs": []
    },
    {
      "cell_type": "markdown",
      "metadata": {
        "id": "KltqWMHsXanh"
      },
      "source": [
        "Joining sentences with highest score"
      ]
    },
    {
      "cell_type": "code",
      "metadata": {
        "colab": {
          "base_uri": "https://localhost:8080/"
        },
        "id": "PfwDmyo9SqvN",
        "outputId": "d3817837-e7f9-4eee-f288-1502aa877187"
      },
      "source": [
        "print(text1)"
      ],
      "execution_count": 45,
      "outputs": [
        {
          "output_type": "stream",
          "text": [
            "\n",
            "Extractive summarization is a challenging task that has only recently become practical.\n",
            "Like many things NLP, one reason for this progress is the superior embeddings offered by transformer models like BERT.\n",
            "This project uses BERT sentence embeddings to build an extractive summarizer taking two supervised approaches.\n",
            "The first considers only embeddings and their derivatives.\n",
            "This corresponds to our intuition that a good summarizer can parse meaning and should select sentences based purely on the internal structure of the article. The baseline for this approach is the unsupervised TextRank model. The other approach incorporates sequential information and takes advantage of the well known Lead3 phenomena particular to news corpuses. This is the observation that the first three sentences typically do a good job in summarizing the article. In fact, this strategy is explicitly deployed by many publishers. Lead3 is used as the baseline for this second approach.\n",
            "In both cases, the supervised models outperform the baselines on the Rouge-1 and Rouge-L F1 metric.\n"
          ],
          "name": "stdout"
        }
      ]
    },
    {
      "cell_type": "code",
      "metadata": {
        "colab": {
          "base_uri": "https://localhost:8080/"
        },
        "id": "m4szKA8hSuph",
        "outputId": "0e1e620f-c89d-4f8e-bc97-7974c0d7ee36"
      },
      "source": [
        "print(summary)"
      ],
      "execution_count": 46,
      "outputs": [
        {
          "output_type": "stream",
          "text": [
            "This corresponds to our intuition that a good summarizer can parse meaning and should select sentences based purely on the internal structure of the article. This project uses BERT sentence embeddings to build an extractive summarizer taking two supervised approaches.\n",
            " Like many things NLP, one reason for this progress is the superior embeddings offered by transformer models like BERT.\n",
            "\n"
          ],
          "name": "stdout"
        }
      ]
    },
    {
      "cell_type": "code",
      "metadata": {
        "colab": {
          "base_uri": "https://localhost:8080/"
        },
        "id": "qOl9atB0SyjG",
        "outputId": "933c218e-baa8-4dd3-b7f2-ba28e4d1e7a0"
      },
      "source": [
        "len(summary)"
      ],
      "execution_count": 47,
      "outputs": [
        {
          "output_type": "execute_result",
          "data": {
            "text/plain": [
              "389"
            ]
          },
          "metadata": {
            "tags": []
          },
          "execution_count": 47
        }
      ]
    },
    {
      "cell_type": "code",
      "metadata": {
        "colab": {
          "base_uri": "https://localhost:8080/"
        },
        "id": "T3BOOdiFS5zJ",
        "outputId": "422e9a27-64aa-4908-c161-e070d93d1787"
      },
      "source": [
        "len(text1)"
      ],
      "execution_count": 48,
      "outputs": [
        {
          "output_type": "execute_result",
          "data": {
            "text/plain": [
              "1069"
            ]
          },
          "metadata": {
            "tags": []
          },
          "execution_count": 48
        }
      ]
    },
    {
      "cell_type": "code",
      "metadata": {
        "id": "ApJ9HaR4S7H0"
      },
      "source": [
        ""
      ],
      "execution_count": null,
      "outputs": []
    }
  ]
}